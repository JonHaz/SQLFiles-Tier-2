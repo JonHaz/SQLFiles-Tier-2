{
 "cells": [
  {
   "cell_type": "code",
   "execution_count": 25,
   "metadata": {},
   "outputs": [
    {
     "name": "stdout",
     "output_type": "stream",
     "text": [
      "['Bookings', 'Facilities', 'Members']\n"
     ]
    }
   ],
   "source": [
    "#Create database engine\n",
    "from sqlalchemy import create_engine\n",
    "engine = create_engine('sqlite:///sqlite_db_pythonsqlite.db')\n",
    "\n",
    "#print tables in database\n",
    "table_names = engine.table_names()\n",
    "print(table_names)"
   ]
  },
  {
   "cell_type": "code",
   "execution_count": 26,
   "metadata": {},
   "outputs": [
    {
     "name": "stdout",
     "output_type": "stream",
     "text": [
      "   bookid  facid  memid            starttime  slots\n",
      "0       0      3      1  2012-07-03 11:00:00      2\n",
      "1       1      4      1  2012-07-03 08:00:00      2\n",
      "2       2      6      0  2012-07-03 18:00:00      2\n",
      "3       3      7      1  2012-07-03 19:00:00      2\n",
      "4       4      8      1  2012-07-03 10:00:00      1\n"
     ]
    }
   ],
   "source": [
    "import pandas as pd\n",
    "\n",
    "con = engine.connect()\n",
    "rs = con.execute('SELECT * FROM Bookings')\n",
    "df = pd.DataFrame(rs.fetchall())\n",
    "df.columns = rs.keys()\n",
    "con.close()\n",
    "print(df.head())"
   ]
  },
  {
   "cell_type": "code",
   "execution_count": 42,
   "metadata": {},
   "outputs": [
    {
     "name": "stdout",
     "output_type": "stream",
     "text": [
      "   bookid  facid  memid            starttime  slots\n",
      "0       0      3      1  2012-07-03 11:00:00      2\n",
      "1       1      4      1  2012-07-03 08:00:00      2\n",
      "2       2      6      0  2012-07-03 18:00:00      2\n",
      "   facid             name  membercost  guestcost  initialoutlay  \\\n",
      "0      0   Tennis Court 1         5.0       25.0          10000   \n",
      "1      1   Tennis Court 2         5.0       25.0           8000   \n",
      "2      2  Badminton Court         0.0       15.5           4000   \n",
      "\n",
      "   monthlymaintenance  \n",
      "0                 200  \n",
      "1                 200  \n",
      "2                  50  \n",
      "   memid surname firstname                       address  zipcode  \\\n",
      "0      0   GUEST     GUEST                         GUEST        0   \n",
      "1      1   Smith    Darren    8 Bloomsbury Close, Boston     4321   \n",
      "2      2   Smith     Tracy  8 Bloomsbury Close, New York     4321   \n",
      "\n",
      "        telephone recommendedby             joindate  \n",
      "0  (000) 000-0000                2012-07-01 00:00:00  \n",
      "1    555-555-5555                2012-07-02 12:02:05  \n",
      "2    555-555-5555                2012-07-02 12:08:23  \n"
     ]
    }
   ],
   "source": [
    "bookings = pd.read_sql_query('SELECT * FROM Bookings', engine)\n",
    "print(bookings.head(3))\n",
    "\n",
    "facilities = pd.read_sql_query('SELECT * FROM Facilities', engine)\n",
    "print(facilities.head(3))\n",
    "\n",
    "members = pd.read_sql_query('SELECT * FROM Members', engine)\n",
    "print(members.head(3))\n"
   ]
  },
  {
   "cell_type": "code",
   "execution_count": 28,
   "metadata": {},
   "outputs": [
    {
     "name": "stdout",
     "output_type": "stream",
     "text": [
      "              name\n",
      "0   Tennis Court 1\n",
      "1   Tennis Court 2\n",
      "2  Badminton Court\n",
      "3     Table Tennis\n",
      "4   Massage Room 1\n",
      "5   Massage Room 2\n",
      "6     Squash Court\n",
      "7    Snooker Table\n",
      "8       Pool Table\n"
     ]
    }
   ],
   "source": [
    "#Q1: Some of the facilities charge a fee to members, but some do not.\n",
    "#Write a SQL query to produce a list of the names of the facilities that do.\n",
    "query1 = 'SELECT DISTINCT name FROM Facilities WHERE membercost > 0 OR membercost IS NOT NULL' \n",
    "\n",
    "answer1 = pd.read_sql_query(query1, engine)\n",
    "print(answer1)"
   ]
  },
  {
   "cell_type": "code",
   "execution_count": 29,
   "metadata": {},
   "outputs": [
    {
     "name": "stdout",
     "output_type": "stream",
     "text": [
      "              name\n",
      "0  Badminton Court\n",
      "1     Table Tennis\n",
      "2    Snooker Table\n",
      "3       Pool Table\n"
     ]
    }
   ],
   "source": [
    "#Q2: How many facilities do not charge a fee to members?\n",
    "\n",
    "query2 = 'SELECT DISTINCT name FROM Facilities WHERE membercost = 0 OR membercost IS NULL' \n",
    "answer2 = pd.read_sql_query(query2, engine)\n",
    "print(answer2)"
   ]
  },
  {
   "cell_type": "code",
   "execution_count": 31,
   "metadata": {},
   "outputs": [
    {
     "name": "stdout",
     "output_type": "stream",
     "text": [
      "   facid             name  membercost  monthlymaintenance\n",
      "0      0   Tennis Court 1         5.0                 200\n",
      "1      1   Tennis Court 2         5.0                 200\n",
      "2      2  Badminton Court         0.0                  50\n",
      "3      3     Table Tennis         0.0                  10\n",
      "4      4   Massage Room 1         9.9                3000\n",
      "5      5   Massage Room 2         9.9                3000\n",
      "6      6     Squash Court         3.5                  80\n",
      "7      7    Snooker Table         0.0                  15\n",
      "8      8       Pool Table         0.0                  15\n"
     ]
    }
   ],
   "source": [
    "#Q3: Write an SQL query to show a list of facilities that charge a fee to members,\n",
    "#where the fee is less than 20% of the facility's monthly maintenance cost.\n",
    "#Return the facid, facility name, member cost, and monthly maintenance of the\n",
    "#facilities in question.\n",
    "\n",
    "query3 = 'SELECT facid, name, membercost, monthlymaintenance FROM Facilities WHERE membercost < monthlymaintenance * 0.2 OR membercost IS NOT NULL ' \n",
    "answer3 = pd.read_sql_query(query3, engine)\n",
    "print(answer3)"
   ]
  },
  {
   "cell_type": "code",
   "execution_count": 34,
   "metadata": {},
   "outputs": [
    {
     "name": "stdout",
     "output_type": "stream",
     "text": [
      "   facid            name  membercost  guestcost  initialoutlay  \\\n",
      "0      1  Tennis Court 2         5.0         25           8000   \n",
      "1      5  Massage Room 2         9.9         80           4000   \n",
      "\n",
      "   monthlymaintenance  \n",
      "0                 200  \n",
      "1                3000  \n"
     ]
    }
   ],
   "source": [
    "#Q4: Write an SQL query to retrieve the details of facilities with ID 1 and 5.\n",
    "#Try writing the query without using the OR operator.\n",
    "query4 = 'SELECT * FROM Facilities WHERE facid = 1 UNION SELECT * FROM Facilities WHERE facid = 5'\n",
    "answer4 = pd.read_sql_query(query4, engine)\n",
    "print(answer4)"
   ]
  },
  {
   "cell_type": "code",
   "execution_count": 37,
   "metadata": {},
   "outputs": [
    {
     "name": "stdout",
     "output_type": "stream",
     "text": [
      "              name  monthlymaintenance      value\n",
      "0   Tennis Court 1                 200  expensive\n",
      "1   Tennis Court 2                 200  expensive\n",
      "2  Badminton Court                  50      cheap\n",
      "3     Table Tennis                  10      cheap\n",
      "4   Massage Room 1                3000  expensive\n",
      "5   Massage Room 2                3000  expensive\n",
      "6     Squash Court                  80      cheap\n",
      "7    Snooker Table                  15      cheap\n",
      "8       Pool Table                  15      cheap\n"
     ]
    }
   ],
   "source": [
    "#Q5: Produce a list of facilities, with each labelled as\n",
    "#'cheap' or 'expensive', depending on if their monthly maintenance cost is\n",
    "#more than $100. Return the name and monthly maintenance of the facilities\n",
    "#in question.\n",
    "\n",
    "query5 = \"SELECT name, monthlymaintenance, CASE WHEN monthlymaintenance > 100 THEN 'expensive' ELSE 'cheap' END AS value FROM Facilities \"\n",
    "answer5 = pd.read_sql_query(query5, engine)\n",
    "print(answer5)"
   ]
  },
  {
   "cell_type": "code",
   "execution_count": 40,
   "metadata": {},
   "outputs": [
    {
     "name": "stdout",
     "output_type": "stream",
     "text": [
      "    firstname            surname\n",
      "0      Darren              Smith\n",
      "1       Erica            Crumpet\n",
      "2        John               Hunt\n",
      "3    Hyacinth         Tupperware\n",
      "4   Millicent            Purview\n",
      "5       Henry  Worthington-Smyth\n",
      "6       David            Farrell\n",
      "7   Henrietta             Rumney\n",
      "8     Douglas              Jones\n",
      "9   Ramnaresh             Sarwin\n",
      "10       Joan             Coplin\n",
      "11       Anna          Mackenzie\n",
      "12    Matthew            Genting\n",
      "13      David             Pinker\n",
      "14    Timothy              Baker\n",
      "15   Florence              Bader\n",
      "16       Jack              Smith\n",
      "17     Jemima            Farrell\n",
      "18       Anne              Baker\n",
      "19      David              Jones\n",
      "20    Charles               Owen\n",
      "21     Ponder           Stibbons\n",
      "22        Tim             Boothe\n",
      "23      Nancy               Dare\n",
      "24     Burton              Tracy\n",
      "25     Gerald            Butters\n",
      "26     Janice           Joplette\n",
      "27        Tim             Rownam\n",
      "28      Tracy              Smith\n",
      "29     Darren              Smith\n",
      "30      GUEST              GUEST\n"
     ]
    }
   ],
   "source": [
    "#Q6: You'd like to get the first and last name of the last member(s)\n",
    "#who signed up. Try not to use the LIMIT clause for your solution.\n",
    "\n",
    "query6 = \"SELECT firstname, surname FROM Members ORDER BY joindate DESC\"\n",
    "answer6 = pd.read_sql_query(query6, engine)\n",
    "print(answer6)"
   ]
  },
  {
   "cell_type": "code",
   "execution_count": 47,
   "metadata": {},
   "outputs": [
    {
     "name": "stdout",
     "output_type": "stream",
     "text": [
      "           Full_Name            name\n",
      "0          AnneBaker  Tennis Court 1\n",
      "1          AnneBaker  Tennis Court 2\n",
      "2        BurtonTracy  Tennis Court 2\n",
      "3        BurtonTracy  Tennis Court 1\n",
      "4        CharlesOwen  Tennis Court 1\n",
      "5        CharlesOwen  Tennis Court 2\n",
      "6        DarrenSmith  Tennis Court 2\n",
      "7       DavidFarrell  Tennis Court 1\n",
      "8       DavidFarrell  Tennis Court 2\n",
      "9         DavidJones  Tennis Court 2\n",
      "10        DavidJones  Tennis Court 1\n",
      "11       DavidPinker  Tennis Court 1\n",
      "12      DouglasJones  Tennis Court 1\n",
      "13      EricaCrumpet  Tennis Court 1\n",
      "14     FlorenceBader  Tennis Court 2\n",
      "15     FlorenceBader  Tennis Court 1\n",
      "16        GUESTGUEST  Tennis Court 2\n",
      "17        GUESTGUEST  Tennis Court 1\n",
      "18     GeraldButters  Tennis Court 1\n",
      "19     GeraldButters  Tennis Court 2\n",
      "20   HenriettaRumney  Tennis Court 2\n",
      "21         JackSmith  Tennis Court 1\n",
      "22         JackSmith  Tennis Court 2\n",
      "23    JaniceJoplette  Tennis Court 1\n",
      "24    JaniceJoplette  Tennis Court 2\n",
      "25     JemimaFarrell  Tennis Court 2\n",
      "26     JemimaFarrell  Tennis Court 1\n",
      "27        JoanCoplin  Tennis Court 1\n",
      "28          JohnHunt  Tennis Court 1\n",
      "29          JohnHunt  Tennis Court 2\n",
      "30    MatthewGenting  Tennis Court 1\n",
      "31  MillicentPurview  Tennis Court 2\n",
      "32         NancyDare  Tennis Court 2\n",
      "33         NancyDare  Tennis Court 1\n",
      "34    PonderStibbons  Tennis Court 2\n",
      "35    PonderStibbons  Tennis Court 1\n",
      "36   RamnareshSarwin  Tennis Court 2\n",
      "37   RamnareshSarwin  Tennis Court 1\n",
      "38         TimBoothe  Tennis Court 2\n",
      "39         TimBoothe  Tennis Court 1\n",
      "40         TimRownam  Tennis Court 2\n",
      "41         TimRownam  Tennis Court 1\n",
      "42      TimothyBaker  Tennis Court 2\n",
      "43      TimothyBaker  Tennis Court 1\n",
      "44        TracySmith  Tennis Court 1\n",
      "45        TracySmith  Tennis Court 2\n"
     ]
    }
   ],
   "source": [
    "#Q7: Produce a list of all members who have used a tennis court.\n",
    "#Include in your output the name of the court, and the name of the member\n",
    "#formatted as a single column. Ensure no duplicate data, and order by\n",
    "#the member name.\n",
    "\n",
    "query7 = \"SELECT DISTINCT (Members.firstname||Members.surname) AS Full_Name, Facilities.name FROM Bookings INNER JOIN Members ON Members.memid = Bookings.memid INNER JOIN Facilities ON Facilities.facid = Bookings.facid WHERE Facilities.facid IN (SELECT facid FROM Facilities WHERE name LIKE 'Tennis Court%') ORDER BY Full_Name\"\n",
    "answer7 = pd.read_sql_query(query7, engine)\n",
    "print(answer7)"
   ]
  },
  {
   "cell_type": "code",
   "execution_count": 49,
   "metadata": {},
   "outputs": [
    {
     "name": "stdout",
     "output_type": "stream",
     "text": [
      "   bookid  facid  memid            starttime  slots  facid            name  \\\n",
      "0    2941      4     13  2012-09-14 14:00:00      4      4  Massage Room 1   \n",
      "\n",
      "   membercost  guestcost  initialoutlay  monthlymaintenance  \n",
      "0         9.9         80           4000                3000  \n"
     ]
    }
   ],
   "source": [
    "#Q8: Produce a list of bookings on the day of 2012-09-14 which\n",
    "#will cost the member (or guest) more than $30. Remember that guests have\n",
    "#different costs to members (the listed costs are per half-hour 'slot'), and\n",
    "#the guest user's ID is always 0. Include in your output the name of the\n",
    "#facility, the name of the member formatted as a single column, and the cost.\n",
    "#Order by descending cost, and do not use any subqueries.\n",
    "\n",
    "query8 = \"SELECT * FROM Bookings LEFT JOIN Facilities ON Bookings.facid = Facilities.facid WHERE starttime LIKE '%09-14%' AND memid != 0 AND slots*membercost > 30\"\n",
    "answer8 = pd.read_sql_query(query8, engine)\n",
    "print(answer8)"
   ]
  },
  {
   "cell_type": "code",
   "execution_count": null,
   "metadata": {},
   "outputs": [],
   "source": [
    "#Q9: This time, produce the same result as in Q8, but using a subquery.\n",
    "query9 = \"\"\n",
    "answer9 = pd.read_sql_query(query9, engine)\n",
    "print(answer9)\n",
    "\n",
    "SELECT * FROM country_club.Bookings \n",
    "LEFT JOIN country_club.Facilities ON Bookings.facid = Facilities.facid \n",
    "WHERE starttime LIKE '%09-14%' \n",
    "\tAND memid != 0 \n",
    "\tAND (SELECT slots*membercost \n",
    "         FROM country_club.Facilities) > 30"
   ]
  },
  {
   "cell_type": "code",
   "execution_count": 50,
   "metadata": {},
   "outputs": [
    {
     "name": "stdout",
     "output_type": "stream",
     "text": [
      "            name  revenue\n",
      "0   Table Tennis      180\n",
      "1  Snooker Table      240\n",
      "2     Pool Table      270\n"
     ]
    }
   ],
   "source": [
    "#Q10: Produce a list of facilities with a total revenue less than 1000.\n",
    "#The output of facility name and total revenue, sorted by revenue. Remember\n",
    "#that there's a different cost for guests and members!\n",
    "\n",
    "query10 = \"SELECT f.name, SUM(CASE WHEN memid = 0 THEN guestcost * slots ELSE membercost * slots END) AS revenue FROM Bookings AS b LEFT JOIN Facilities AS f ON f.facid = b.facid GROUP BY b.facid HAVING revenue < 1000 ORDER BY 2\"\n",
    "answer10 = pd.read_sql_query(query10, engine)\n",
    "print(answer10)"
   ]
  },
  {
   "cell_type": "code",
   "execution_count": 52,
   "metadata": {},
   "outputs": [
    {
     "name": "stdout",
     "output_type": "stream",
     "text": [
      "                member                  referral\n",
      "0      Bader, Florence         Sarwin, Ramnaresh\n",
      "1       Baker, Timothy              Coplin, Joan\n",
      "2      Butters, Gerald          Genting, Matthew\n",
      "3      Farrell, Jemima            Baker, Timothy\n",
      "4      Farrell, Jemima             Pinker, David\n",
      "5     Genting, Matthew         Rumney, Henrietta\n",
      "6         Jones, David            Jones, Douglas\n",
      "7     Joplette, Janice               Dare, Nancy\n",
      "8     Joplette, Janice              Jones, David\n",
      "9   Purview, Millicent                Hunt, John\n",
      "10         Rownam, Tim               Boothe, Tim\n",
      "11       Smith, Darren          Joplette, Janice\n",
      "12       Smith, Darren           Butters, Gerald\n",
      "13       Smith, Darren             Owen, Charles\n",
      "14       Smith, Darren               Smith, Jack\n",
      "15       Smith, Darren           Mackenzie, Anna\n",
      "16        Smith, Tracy  Worthington-Smyth, Henry\n",
      "17        Smith, Tracy        Purview, Millicent\n",
      "18        Smith, Tracy            Crumpet, Erica\n",
      "19    Stibbons, Ponder               Baker, Anne\n",
      "20    Stibbons, Ponder           Bader, Florence\n",
      "21       Tracy, Burton          Stibbons, Ponder\n"
     ]
    }
   ],
   "source": [
    "#Q11: Produce a report of members and who recommended them in alphabetic surname,firstname order\n",
    "\n",
    "query11 = \"SELECT (m.surname||', '||m.firstname) AS member, (r.surname||', '||r.firstname) AS referral FROM Members AS m INNER JOIN Members as r ON m.memid = r.recommendedby WHERE m.memid != 0 ORDER BY 1\"\n",
    "answer11 = pd.read_sql_query(query11, engine)\n",
    "print(answer11)"
   ]
  },
  {
   "cell_type": "code",
   "execution_count": 53,
   "metadata": {},
   "outputs": [
    {
     "name": "stdout",
     "output_type": "stream",
     "text": [
      "              name           member  usage\n",
      "0  Badminton Court     Darren Smith   1086\n",
      "1   Massage Room 1     Darren Smith    884\n",
      "2   Massage Room 2  Janice Joplette     54\n",
      "3       Pool Table     Darren Smith    856\n",
      "4    Snooker Table     Darren Smith    860\n",
      "5     Squash Court     Darren Smith    418\n",
      "6     Table Tennis     Darren Smith    794\n",
      "7   Tennis Court 1      Tracy Smith    957\n",
      "8   Tennis Court 2       Tim Rownam    882\n"
     ]
    }
   ],
   "source": [
    "#Q12: Find the facilities with their usage by member, but not guests\n",
    "\n",
    "query12 = \"SELECT f.name, (m.firstname||' '||m.surname) AS member, SUM(slots) AS usage FROM Bookings as b INNER JOIN Members AS m ON m.memid = b.memid INNER JOIN Facilities AS f ON f.facid = b.facid WHERE m.memid != 0 GROUP BY f.name\"\n",
    "answer12 = pd.read_sql_query(query12, engine)\n",
    "print(answer12)"
   ]
  },
  {
   "cell_type": "code",
   "execution_count": 55,
   "metadata": {},
   "outputs": [
    {
     "name": "stdout",
     "output_type": "stream",
     "text": [
      "              name            starttime  SUM(slots)\n",
      "0  Badminton Court  2012-07-05 09:30:00       36270\n",
      "1   Massage Room 1  2012-07-03 08:00:00       42120\n",
      "2   Massage Room 2  2012-07-10 08:30:00        6840\n",
      "3       Pool Table  2012-07-03 10:00:00       27300\n",
      "4    Snooker Table  2012-07-03 19:00:00       27240\n",
      "5     Squash Court  2012-07-03 18:00:00       33120\n",
      "6     Table Tennis  2012-07-03 11:00:00       24900\n",
      "7   Tennis Court 1  2012-07-04 09:00:00       39600\n",
      "8   Tennis Court 2  2012-07-05 17:30:00       38340\n"
     ]
    }
   ],
   "source": [
    "#Q13: Find the facilities usage by month, but not guests\n",
    "\n",
    "query13 = \"SELECT f.name, b.starttime, SUM(slots) FROM Bookings AS b INNER JOIN Members AS m ON m.memid + b.memid INNER JOIN Facilities AS f ON f.facid = b.facid WHERE m.memid != 0 GROUP BY f.name\"\n",
    "answer13 = pd.read_sql_query(query13, engine)\n",
    "print(answer13)"
   ]
  }
 ],
 "metadata": {
  "kernelspec": {
   "display_name": "Python 3",
   "language": "python",
   "name": "python3"
  },
  "language_info": {
   "codemirror_mode": {
    "name": "ipython",
    "version": 3
   },
   "file_extension": ".py",
   "mimetype": "text/x-python",
   "name": "python",
   "nbconvert_exporter": "python",
   "pygments_lexer": "ipython3",
   "version": "3.8.5"
  }
 },
 "nbformat": 4,
 "nbformat_minor": 4
}
